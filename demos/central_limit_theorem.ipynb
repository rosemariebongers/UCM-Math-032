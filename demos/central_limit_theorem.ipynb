{
 "cells": [
  {
   "cell_type": "markdown",
   "id": "b2c7befd-f3c1-4a2f-b19e-4705f0e1c7ba",
   "metadata": {},
   "source": [
    "## Demonstration: The Central Limit Theorem ##\n",
    "\n",
    "In this notebook, we explore the core idea of the central limit theorem: that for essentially any probability distribution we've met so far, its averages look essentially like a normal random variable if we have enough of them."
   ]
  },
  {
   "cell_type": "code",
   "execution_count": null,
   "id": "7fdf5d26-4472-46f0-8325-1c7fa8daee40",
   "metadata": {},
   "outputs": [],
   "source": [
    "# All the imports that we need for this\n",
    "\n",
    "import numpy as np\n",
    "import matplotlib.pyplot as plt\n",
    "from random import random\n",
    "from math import *"
   ]
  },
  {
   "cell_type": "code",
   "execution_count": null,
   "id": "ddef4507-5ef9-4bf1-b670-1a2be0f8fe12",
   "metadata": {},
   "outputs": [],
   "source": [
    "N = 10000\n",
    "# Take the average of two random U(0, 1) samples\n",
    "samples = [random() for _ in range(N)]\n",
    "#samples = [(random() + random())/2 for _ in range(N)]\n",
    "\n",
    "# This code plots a histogram of the results from the samples.\n",
    "hist, bins = np.histogram(samples, bins=50)\n",
    "bin_centers = (bins[1:] + bins[:-1])*.5\n",
    "    \n",
    "# Set up the window and plot: the first lines set up x- and y-limits\n",
    "# for the window size. Then the next plots the histograms using\n",
    "# dots for each data point.\n",
    "plt.xlim(-.2, 1.2)\n",
    "plt.ylim(-.1, 2)\n",
    "plt.plot(bin_centers, 50*hist / N, 'o')"
   ]
  },
  {
   "cell_type": "code",
   "execution_count": null,
   "id": "ecf42525-b25f-4066-a265-07e672a6b3f5",
   "metadata": {},
   "outputs": [],
   "source": [
    "# Let's do this again but with a different number of summands instead.\n",
    "# If we change num_vars,w e'll average a different number of\n",
    "# random samples from the variable:\n",
    "\n",
    "# Set everything up; we'll store the averages\n",
    "repetitions = 100000\n",
    "num_vars = 20\n",
    "averages = []\n",
    "\n",
    "# For each repitition, generate an average:\n",
    "for k in range(repetitions):\n",
    "    new_sample = [random() for k in range(num_vars)]\n",
    "    new_average = np.average(new_sample)\n",
    "    averages.append(new_average)\n",
    "\n",
    "# Now plot!\n",
    "hist, bins = np.histogram(averages, bins=100)\n",
    "bin_centers = (bins[1:] + bins[:-1])*.5\n",
    "plt.xlim(-.2, 1.2)\n",
    "plt.plot(bin_centers, hist / N, 'o')"
   ]
  },
  {
   "cell_type": "code",
   "execution_count": null,
   "id": "90827cc3-85e2-4f40-b5c9-7ae22d719b2e",
   "metadata": {},
   "outputs": [],
   "source": [
    "# Let's do this again but with an exponential distribution!\n",
    "# We'll first generate exponential data:\n",
    "\n",
    "def random_exponential(lamb):\n",
    "    return - log(random()) / lamb\n",
    "\n",
    "# Set everything up; we'll store the averages\n",
    "repetitions = 100000\n",
    "num_vars = 50\n",
    "averages = []\n",
    "\n",
    "# For each repitition, generate an average:\n",
    "for k in range(repetitions):\n",
    "    new_sample = [random_exponential(2) for k in range(num_vars)]\n",
    "    new_average = np.average(new_sample)\n",
    "    averages.append(new_average)\n",
    "\n",
    "# Now plot!\n",
    "hist, bins = np.histogram(averages, bins=100)\n",
    "bin_centers = (bins[1:] + bins[:-1])*.5\n",
    "plt.plot(bin_centers, hist / N, 'o')"
   ]
  },
  {
   "cell_type": "code",
   "execution_count": null,
   "id": "6657fee0-1646-4c77-8b11-fb099e917cc8",
   "metadata": {},
   "outputs": [],
   "source": [
    "# Let's do one more: we haven't met it yet, but \n",
    "# there is something called a beta distribution. \n",
    "# You can read about it here: https://numpy.org/doc/2.0/reference/random/generated/numpy.random.beta.html\n",
    "\n",
    "def random_beta(a, b):\n",
    "    return np.random.beta(a, b)\n",
    "\n",
    "# Set everything up; we'll store the averages\n",
    "repetitions = 100000\n",
    "num_vars = 1\n",
    "averages = []\n",
    "\n",
    "# For each repitition, generate an average:\n",
    "for k in range(repetitions):\n",
    "    new_sample = [random_beta(.9, .7) for k in range(num_vars)]\n",
    "    new_average = np.average(new_sample)\n",
    "    averages.append(new_average)\n",
    "\n",
    "# Now plot!\n",
    "hist, bins = np.histogram(averages, bins=100)\n",
    "bin_centers = (bins[1:] + bins[:-1])*.5\n",
    "plt.plot(bin_centers, hist / N, 'o')"
   ]
  }
 ],
 "metadata": {
  "kernelspec": {
   "display_name": "Python 3 (ipykernel)",
   "language": "python",
   "name": "python3"
  },
  "language_info": {
   "codemirror_mode": {
    "name": "ipython",
    "version": 3
   },
   "file_extension": ".py",
   "mimetype": "text/x-python",
   "name": "python",
   "nbconvert_exporter": "python",
   "pygments_lexer": "ipython3",
   "version": "3.11.9"
  }
 },
 "nbformat": 4,
 "nbformat_minor": 5
}
