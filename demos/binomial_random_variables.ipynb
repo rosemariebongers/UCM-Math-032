{
 "cells": [
  {
   "cell_type": "markdown",
   "id": "e3d52a2c-688c-4e11-bb63-69129f2f2f61",
   "metadata": {},
   "source": [
    "<h3> Demonstration: Binomial Random Variables </h3>\n",
    "\n",
    "This notebook plots the distribution of a binomial random variable $X \\sim \\operatorname{Bin}(N, p)$ where we can choose the number of trials $N$ and the probability $p$ freely. Play around a bit with what shapes of graphs you get for different values of $N$ and $p$! What are some general trends that you observe?"
   ]
  },
  {
   "cell_type": "code",
   "execution_count": 13,
   "id": "e7660489-0225-461e-afb5-df0953fdcbfb",
   "metadata": {},
   "outputs": [],
   "source": [
    "# As long as you're using this on the UCM\n",
    "# JupyterHub, all the packages needed for graphing\n",
    "# should already be installed. Otherwise, you \n",
    "# might have to do a little bit of work to install\n",
    "# numpy and matplotlib.\n",
    "import numpy as np\n",
    "import matplotlib.pyplot as plt\n",
    "\n",
    "# This defines the factorial, the binomial coefficient,\n",
    "# and the probability mass function for a binomial\n",
    "# random variable. It corresponds to k successes from\n",
    "# N trials with probability p of success on each one.\n",
    "def fact(n):\n",
    "    if n == 0:\n",
    "        return 1\n",
    "    else:\n",
    "        return n*fact(n - 1)\n",
    "        \n",
    "def choose(n, k):\n",
    "    return fact(n) // (fact(k) * fact(n - k))\n",
    "\n",
    "def pmf(k, N, p):\n",
    "    return choose(N, k) * (p**k) * (1 - p)**(N - k)"
   ]
  },
  {
   "cell_type": "code",
   "execution_count": 29,
   "id": "ef1e4259-8d3d-4d61-97fb-a2d752a8f61e",
   "metadata": {},
   "outputs": [
    {
     "data": {
      "text/plain": [
       "[<matplotlib.lines.Line2D at 0x108559110>]"
      ]
     },
     "execution_count": 29,
     "metadata": {},
     "output_type": "execute_result"
    },
    {
     "data": {
      "image/png": "[encoded data removed]",
      "text/plain": [
       "<Figure size 640x480 with 1 Axes>"
      ]
     },
     "metadata": {},
     "output_type": "display_data"
    }
   ],
   "source": [
    "# Initialize some data about the distribution.\n",
    "# These are the tunable parameters that we're \n",
    "# allowed to alter. Here we'll take N trials\n",
    "# with probability p of success\n",
    "N = 100\n",
    "p = 0.01\n",
    "\n",
    "# This sets up the graphing. The x values will\n",
    "# be the number of successes (heads) and the\n",
    "# y values will be the pmf. \n",
    "x = range(0, N + 1)\n",
    "y = [0 for _ in range(N + 1)]\n",
    "\n",
    "# Compute the pmf given some parameters\n",
    "for k in range(N + 1):\n",
    "    y[k] = pmf(k, N, p)\n",
    "\n",
    "# This step is optional: if you want to zoom in \n",
    "# to a particular region, then change the values\n",
    "#for leftEnd and rightEnd appropriately and uncomment.\n",
    "\n",
    "leftEnd = 0\n",
    "rightEnd = 10\n",
    "plt.xlim(leftEnd, rightEnd)\n",
    "\n",
    "# Plot it!\n",
    "plt.plot(x, y, 'o')"
   ]
  },
  {
   "cell_type": "code",
   "execution_count": 30,
   "id": "0c28298e-fa3f-4b1b-a458-0d61febdb218",
   "metadata": {},
   "outputs": [
    {
     "name": "stdout",
     "output_type": "stream",
     "text": [
      "P(X = 0) = 0.3660323412732292\n",
      "P(X = 1) = 0.36972963764972644\n",
      "P(X = 2) = 0.18486481882486325\n",
      "P(X = 3) = 0.06099916580753064\n",
      "P(X = 4) = 0.01494171485689513\n",
      "P(X = 5) = 0.00289778712376148\n",
      "P(X = 6) = 0.0004634508026217855\n",
      "P(X = 7) = 6.286345663268087e-05\n",
      "P(X = 8) = 7.381693771261768e-06\n",
      "P(X = 9) = 7.621950919821355e-07\n",
      "P(X = 10) = 7.006035693977206e-08\n",
      "Cumulative sum: 0.9999999937444807\n"
     ]
    }
   ],
   "source": [
    "N = 100\n",
    "p = 0.01\n",
    "running_sum = 0\n",
    "\n",
    "for k in range(0, 11):\n",
    "    print(f'P(X = {k}) = {pmf(k, N, p)}')\n",
    "    running_sum += pmf(k, N, p)\n",
    "\n",
    "print(f'Cumulative sum: {running_sum}')"
   ]
  },
  {
   "cell_type": "code",
   "execution_count": null,
   "id": "a146e0ea-6904-46db-93f1-1e1bd6931cc8",
   "metadata": {},
   "outputs": [],
   "source": []
  }
 ],
 "metadata": {
  "kernelspec": {
   "display_name": "Python 3 (ipykernel)",
   "language": "python",
   "name": "python3"
  },
  "language_info": {
   "codemirror_mode": {
    "name": "ipython",
    "version": 3
   },
   "file_extension": ".py",
   "mimetype": "text/x-python",
   "name": "python",
   "nbconvert_exporter": "python",
   "pygments_lexer": "ipython3",
   "version": "3.11.9"
  }
 },
 "nbformat": 4,
 "nbformat_minor": 5
}
