{
 "cells": [
  {
   "cell_type": "markdown",
   "id": "35075e8a-b4f4-4393-b9d1-7b4fd4366fd3",
   "metadata": {},
   "source": [
    "<h1> Exploring Hypothesis Testing </h1>\n",
    "\n",
    "In this notebook, we're going to explore what hypothesis testing actually tells us. The goal of a hypothesis test is to choose between two alternative views of how data was generated, and naturally comes with a probability of making an error. In a **Type 1** error, we incorrectly reject the null hypothesis because the natural random variation in sampling yields a test statistic which is too far from what we expect. \n",
    "\n",
    "<h2> Forming a decision rule </h2>\n",
    "\n",
    "Suppose we're running a hypothesis test for the mean and want to have a 95% degree of confidence. We want to choose between two hypothesis for a distribution $X$ with known variance $1$:\n",
    "* $H_0 : \\text{ mean } = \\mu$\n",
    "* $H_1 : \\text{ mean } \\ne \\mu.$\n",
    "If our data is normally distributed and we draw $n$ samples our corresponding decision rule is to reject the null hypothesis if the observed sample mean $\\overline{X}_n$ is too far from $\\mu$:\n",
    "$$\\text{ Reject $H_0$ if } |\\overline{X}_n - \\mu| > 1.960 \\frac{\\sigma}{\\sqrt{n}}.$$\n",
    "\n",
    "We can generate normally distributed data with variance $1$ using `numpy.random.normal()`, which defaults to mean $0$ and variance $1$. Suppose our null hypothesis (which is true in this case!) is that $\\mu = 0$. If we take $20$ samples from this population, our decision rule is to reject the null hypothesis if $\\overline{X}_{20} > 0.438.$\n",
    "\n",
    "<h2> Questions </h2>\n",
    "\n",
    "**Question 1**: Generate 10,000 samples of $\\overline{X}_{20}$. How many of these samples would lead to rejecting the null hypothesis? Briefly explain why this result is exactly what you'd expect."
   ]
  },
  {
   "cell_type": "code",
   "execution_count": 12,
   "id": "177d83c5-74f9-4391-b26e-996598c3232d",
   "metadata": {},
   "outputs": [],
   "source": [
    "# The packages we'll need\n",
    "from math import sqrt, log\n",
    "from random import random\n",
    "import numpy\n",
    "\n",
    "# Put your code for question 1 here."
   ]
  },
  {
   "cell_type": "markdown",
   "id": "9d1f693b-c469-4c30-a590-2995b3516b31",
   "metadata": {},
   "source": [
    "*Put your answer for question 1 here!*"
   ]
  },
  {
   "cell_type": "markdown",
   "id": "ccc1c95d-50bc-4f82-a3dd-8bd08d038c2d",
   "metadata": {},
   "source": [
    "**Question 2:** The distribution $Y \\sim \\operatorname{Exp}(1)$ also has variance $1$. Since its mean is $1$, the corresponding decision rule would be to reject the null hypothesis that $\\mu = 1$ if our sample average is more than $1.438$ or less than $0.562$. Generate $10,000$ samples of $\\overline{Y}_{20}$. How many of these samples would lead to rejecting the null hypothesis using our decision rule? Briefly explain why this process leads to a lower confidence level than the 95% in Question 1."
   ]
  },
  {
   "cell_type": "code",
   "execution_count": 36,
   "id": "f4335c66-39ac-4dd1-a0d3-8ee99498b116",
   "metadata": {},
   "outputs": [],
   "source": [
    "# Finish the code for question 2 here.\n",
    "\n",
    "def exponential_random():\n",
    "    return -log(random())"
   ]
  },
  {
   "cell_type": "markdown",
   "id": "932644d1-0e82-488c-b426-04a2b648d50d",
   "metadata": {},
   "source": [
    "<h2> Submitting this to Gradescope </h2>\n",
    "\n",
    "Once you've finished modifying your notebook and answering the questions, you'll need to submit it to Gradescope along with your other homework. To do this, generate a pdf file by clicking `File -> Save and Export Notebook as... -> PDF`. Then upload that PDF to Gradescope and submit it to the assignment `Jupyter 7 - Hypothesis Testing`. As always -- if you have any questions or run into any issues you can\n",
    "* ask during discussion,\n",
    "* email your TA or instructor,\n",
    "* or bring them to student hours!"
   ]
  }
 ],
 "metadata": {
  "kernelspec": {
   "display_name": "Python 3 (ipykernel)",
   "language": "python",
   "name": "python3"
  },
  "language_info": {
   "codemirror_mode": {
    "name": "ipython",
    "version": 3
   },
   "file_extension": ".py",
   "mimetype": "text/x-python",
   "name": "python",
   "nbconvert_exporter": "python",
   "pygments_lexer": "ipython3",
   "version": "3.11.9"
  }
 },
 "nbformat": 4,
 "nbformat_minor": 5
}
