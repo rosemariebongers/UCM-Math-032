{
 "cells": [
  {
   "cell_type": "markdown",
   "id": "df3f021f-d678-40ae-b791-5aa2aff1a4e7",
   "metadata": {},
   "source": [
    "<h2> Exploring confidence intervals </h2>\n",
    "\n",
    "This week, we're going to experiment a bit with confidence intervals and generating them from data. One of the most subtle things about confidence intervals is that they do *not* represent the probability that a parameter $\\theta$ is in a particular interval $(\\ell, u)$ -- it either is or it isn't. What *is* true is that if we generate a large number of confidence intervals at level $\\gamma$, then they should contain the parameter with probability $\\gamma$.\n",
    "\n",
    "Let's demonstrate this with our standard normal. We'll do the following as a single trial:\n",
    "* Generate $30$ normally distributed numbers from an $N(0, 1)$ distribution using `random.gauss(0, 1)`.\n",
    "* Compute the mean of these $30$ data points and then the corresponding $95\\%$ confidence interval $(\\overline{x}_{30} \\pm 1.96 / \\sqrt{30})$.\n",
    "* Count this as a success if $0$ is in the confidence interval, because $0$ is the true mean.\n",
    "\n",
    "We'll then carry out $100,000$ trials of this and see how close we came:"
   ]
  },
  {
   "cell_type": "code",
   "execution_count": 1,
   "id": "e077e9dc-0318-4452-9672-9dd8a49168a7",
   "metadata": {},
   "outputs": [
    {
     "name": "stdout",
     "output_type": "stream",
     "text": [
      "95038\n"
     ]
    }
   ],
   "source": [
    "import random\n",
    "from math import sqrt\n",
    "\n",
    "def trial():\n",
    "    # Generate 30 random data points\n",
    "    data = []\n",
    "    for _ in range(30):\n",
    "        data.append(random.gauss())\n",
    "\n",
    "    # Compute the sample mean\n",
    "    mean = sum(data) / 30\n",
    "\n",
    "    # Check if 0 is in the confidence interval\n",
    "    # Return 1 if true, 0 if false\n",
    "    w = 1.960 / sqrt(30)\n",
    "    if mean - w < 0 < mean + w:\n",
    "        return 1\n",
    "    else:\n",
    "        return 0\n",
    "\n",
    "# Run this 100K times and count the successes\n",
    "count = 0\n",
    "for _ in range(100000):\n",
    "    count += trial()\n",
    "\n",
    "print(count)"
   ]
  },
  {
   "cell_type": "markdown",
   "id": "398070bd-26c9-4f90-b89c-885fc7604801",
   "metadata": {},
   "source": [
    "On my first trial of this, I got $95,038$ successful confidence intervals out of $100,000$ trials. This is extremely close to the $95\\%$ estimate! \n",
    "\n",
    "<h3> Questions </h3>\n",
    "\n",
    "* **Question 1**: Let's take the mean of $10$ data points. Construct the $90\\%$ confidence interval and experimentally verify that it's correct.\n",
    "* **Question 2**: Returning to a mean of $10$ data points: replace the $95\\%$ confidence interval $(\\overline{x}_{10} \\pm 1.96 \\cdot 1 / \\sqrt{30})$ with $(\\overline{x}_{10} \\pm 1.96 \\cdot S_{10} / \\sqrt{10})$ where $S_{10}$ is the sample standard deviation. Estimate the corresponding confidence level; is it higher or lower than $95\\%$? Does this match your expectation?\n",
    "* **Question 3**: Adapting your code from the previous part, estimate a value of $t$ so that $(\\overline{x}_{10} \\pm t \\cdot S_{10} / \\sqrt{10})$ is a $98\\%$ confidence interval for the mean. (What you've estimated is the critical $t_{9, 0.01}$ from Table B.2!).\n",
    "\n",
    "To get you started, some code to generate the sample standard deviation is below:"
   ]
  },
  {
   "cell_type": "code",
   "execution_count": 2,
   "id": "346ababf-8371-4fe9-9375-780f76e0c8d8",
   "metadata": {},
   "outputs": [],
   "source": [
    "def sample_sd(data):\n",
    "    # Return the sample standard deviation of the data\n",
    "    # passed as a list / array\n",
    "    N = len(data)\n",
    "    mean = sum(data) / N\n",
    "\n",
    "    return sqrt(sum([(d - mean)**2 for d in data]) / (N - 1))\n",
    "\n",
    "# Put your code here!"
   ]
  },
  {
   "cell_type": "code",
   "execution_count": 3,
   "id": "9b581b4f-c42c-437d-9d8c-415c854831af",
   "metadata": {},
   "outputs": [],
   "source": [
    "# Put your code for Question 1 here."
   ]
  },
  {
   "cell_type": "markdown",
   "id": "a5222bb6-a209-4d26-a453-43662e7a2365",
   "metadata": {},
   "source": [
    "*Put your answer to Question 1 here!*"
   ]
  },
  {
   "cell_type": "code",
   "execution_count": 4,
   "id": "81e5ada4-b76e-4b4b-bb83-788a8500ee81",
   "metadata": {},
   "outputs": [],
   "source": [
    "# Put your code for Question 2 here."
   ]
  },
  {
   "cell_type": "markdown",
   "id": "113e2567-f314-4ba1-a5da-7a2b34367731",
   "metadata": {},
   "source": [
    "*Put your answer to Question 2 here!*"
   ]
  },
  {
   "cell_type": "code",
   "execution_count": 5,
   "id": "bc951367-b278-43fa-a147-ab68e5b0d7e0",
   "metadata": {},
   "outputs": [],
   "source": [
    "# Put your code for Question 3 here."
   ]
  },
  {
   "cell_type": "markdown",
   "id": "0e6d81e2-c298-403e-b07d-9329d4ec710c",
   "metadata": {},
   "source": [
    "*Put your answer to Question 3 here!*"
   ]
  },
  {
   "cell_type": "markdown",
   "id": "3d084e1b-5405-492a-ac1d-a5f6dbb9dafa",
   "metadata": {},
   "source": [
    "<h2> Submitting this to Gradescope </h2>\n",
    "\n",
    "Once you've finished modifying your notebook and answering the questions, you'll need to submit it to Gradescope along with your other homework. To do this, generate a pdf file by clicking `File -> Save and Export Notebook as... -> PDF`. Then upload that PDF to Gradescope and submit it to the assignment `Jupyter 8 - Confidence Intervals`. As always -- if you have any questions or run into any issues you can\n",
    "* ask during discussion,\n",
    "* email your TA or instructor,\n",
    "* or bring them to student hours!"
   ]
  }
 ],
 "metadata": {
  "kernelspec": {
   "display_name": "Python 3 (ipykernel)",
   "language": "python",
   "name": "python3"
  },
  "language_info": {
   "codemirror_mode": {
    "name": "ipython",
    "version": 3
   },
   "file_extension": ".py",
   "mimetype": "text/x-python",
   "name": "python",
   "nbconvert_exporter": "python",
   "pygments_lexer": "ipython3",
   "version": "3.11.9"
  }
 },
 "nbformat": 4,
 "nbformat_minor": 5
}
