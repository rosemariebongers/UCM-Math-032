{
 "cells": [
  {
   "cell_type": "markdown",
   "id": "cc490196-5ff2-4da8-a485-1b94ee6d5966",
   "metadata": {},
   "source": [
    "<h2> Variance of averages </h2>\n",
    "\n",
    "In this week's notebook, you'll explore data and understand how the averages tend towards their limits. We'll generate data from different distributions and see how it settles down towards a particular value over time, by repeatedly computing averages."
   ]
  },
  {
   "cell_type": "markdown",
   "id": "b3295603-3234-443b-89d1-9cf78e34ee4e",
   "metadata": {},
   "source": [
    "<h3> Generating random data </h3>\n",
    "\n",
    "The uniform distribution $\\operatorname{Unif}(0, 1)$ has mean $0.5$ and variance $0.0833...$; remember that this is the distribution that Python's `random()` defaults to.\n",
    "\n",
    "Instead of generating just one random number, let's generate a lot (one hundred) of them and average them: this leads to a new random variable\n",
    "$$Y = \\frac{X_1 + X_2 + \\cdots + X_{100}}{100}.$$\n",
    "In this notebook, we'll explore what happens to the variation of $Y$ compared to the variation of $X$.\n",
    "\n",
    "The code block generates an instance of $Y$:"
   ]
  },
  {
   "cell_type": "code",
   "execution_count": null,
   "id": "de2d0245-fd6b-4d49-8e60-11aecc13062f",
   "metadata": {},
   "outputs": [],
   "source": [
    "from random import random\n",
    "\n",
    "# Generate 100 random data points and average them as a \n",
    "# single outcome for Y\n",
    "\n",
    "s = 0\n",
    "for i in range(100):\n",
    "    s = s + random()\n",
    "y = s / 100\n",
    "print(y)"
   ]
  },
  {
   "cell_type": "markdown",
   "id": "d80ac362-89fa-47a7-9f91-d651ed9ad711",
   "metadata": {},
   "source": [
    "We can also do this for other kinds of variables! Although `random()` generates a single uniformly distributed outcome, we can build from this. For example, the following code block generate a random number according to an exponential distribution:"
   ]
  },
  {
   "cell_type": "code",
   "execution_count": null,
   "id": "69eb37fd-95eb-43ba-a855-f6c82a552e80",
   "metadata": {},
   "outputs": [],
   "source": [
    "from math import log\n",
    "\n",
    "# Generate exponential data with parameter ell. \n",
    "# We're using ell rather than \"lambda\" because\n",
    "# that's a reserved word in Python.\n",
    "\n",
    "def Exp(ell):\n",
    "    r = random()\n",
    "    # If you're interested in why this next line \n",
    "    # works, look at page 74 of the course textbook!\n",
    "    return -(1/ell) * log(r)\n",
    "\n",
    "# Generate 100 random exponentials and average them:\n",
    "s = 0\n",
    "for i in range(100):\n",
    "    s = s + Exp(5)\n",
    "z = s/100\n",
    "print(z)"
   ]
  },
  {
   "cell_type": "markdown",
   "id": "9f21d594-e3ed-450e-b7bb-3a2568f27863",
   "metadata": {},
   "source": [
    "You can stitch together code from past weeks' notebooks to answer this. In particular, we've generated random numbers to simulate data before, stored it, and averaged it. You shouldn't have to write very many new things to solve the following questions:\n",
    "\n",
    "<h4> Question 1 </h4>\n",
    "\n",
    "* Generate at least one million samples for $Y$; how close is the sample mean to $0.5$?\n",
    "\n",
    "* Estimate the variance and standard deviation of $Y$; how do they compare to the variance and standard deviation of just one uniform random variable?\n",
    "\n",
    "* If $X$ has the original $\\operatorname{Unif}(0, 1)$ distribution, then there is an $80\\%$ chance that $X$ differs from its mean by at least $0.1$: $$P(|X - 0.5| \\ge 0.1) = 80\\%.$$\n",
    "Estimate this quantity with $Y$ replacing $X$."
   ]
  },
  {
   "cell_type": "code",
   "execution_count": null,
   "id": "82448e7f-023a-49d0-94ad-6c386b60c3c7",
   "metadata": {},
   "outputs": [],
   "source": [
    "# Put your answers for question 1 here!"
   ]
  },
  {
   "cell_type": "markdown",
   "id": "4005287d-d62d-4f95-97e2-f0da6c070a24",
   "metadata": {},
   "source": [
    "\n",
    "<h4> Question 2 </h4>\n",
    "Repeat the previous part using data from an exponential distribution $\\operatorname{Exp}(0.5)$. This has mean $2$, variance $4$, and standard deviation $2$. \n",
    "\n",
    "Note that the third part has to be modified: If $X \\sim \\operatorname{Exp}(0.5)$ then $P(|X - 2| \\ge 0.1) \\approx 96.3\\%$ rather than $80\\%$. "
   ]
  },
  {
   "cell_type": "markdown",
   "id": "8a22f5a3-b4ef-4850-b564-932ee886449c",
   "metadata": {},
   "source": [
    "\n",
    "<h4> Question 2 </h4>\n",
    "Repeat the previous part using data from an exponential distribution $\\operatorname{Exp}(0.5)$. This has mean $2$, variance $4$, and standard deviation $2$. \n",
    "\n",
    "Note that the third part has to be modified: If $X \\sim \\operatorname{Exp}(0.5)$ then $P(|X - 2| \\ge 0.1) \\approx 96.3\\%$ rather than $80\\%$. "
   ]
  },
  {
   "cell_type": "code",
   "execution_count": null,
   "id": "6d7f0ea2-afe9-486a-bb5b-f3b1e36b8d80",
   "metadata": {},
   "outputs": [],
   "source": [
    "# Put your answers for question 2 here!"
   ]
  },
  {
   "cell_type": "markdown",
   "id": "cb3fdc38-b712-4fd0-baf2-01e1de1b7af1",
   "metadata": {},
   "source": [
    "<h2> Submitting this to Gradescope </h2>\n",
    "\n",
    "Once you've finished modifying your notebook and answering the questions, you'll need to submit it to Gradescope along with your other homework. To do this, generate a pdf file by clicking `File -> Save and Export Notebook as... -> PDF`. Then upload that PDF to Gradescope and submit it to the assignment `Jupyter 5 - Variance`. As always -- if you have any questions or run into any issues you can\n",
    "* ask during discussion,\n",
    "* email your TA or instructor,\n",
    "* or bring them to student hours!"
   ]
  }
 ],
 "metadata": {
  "kernelspec": {
   "display_name": "Python 3 (ipykernel)",
   "language": "python",
   "name": "python3"
  },
  "language_info": {
   "codemirror_mode": {
    "name": "ipython",
    "version": 3
   },
   "file_extension": ".py",
   "mimetype": "text/x-python",
   "name": "python",
   "nbconvert_exporter": "python",
   "pygments_lexer": "ipython3",
   "version": "3.11.9"
  }
 },
 "nbformat": 4,
 "nbformat_minor": 5
}
