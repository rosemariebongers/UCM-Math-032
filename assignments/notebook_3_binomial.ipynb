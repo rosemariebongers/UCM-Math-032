{
 "cells": [
  {
   "cell_type": "markdown",
   "id": "a867d894-0a9f-4719-b87a-b4c47e23ad5b",
   "metadata": {},
   "source": [
    "<h1> Binomial distributions </h1>\n",
    "\n",
    "The binomial distribution is one of the most important discrete distributions; there are a lot of circumstances where we need to count \"good\" results from a pool of possible results,a nd this generally involves a binomial distribution at some point.  In this notebook, you'll do two things: \n",
    "* First, you'll use Python to generate and experiment with some simulated data.\n",
    "* Secondly, you'll simulate a result rather than computing it analytically. **See the weekly homework solutions for the actual analysis!**"
   ]
  },
  {
   "cell_type": "markdown",
   "id": "8ce94788-0008-41bd-9354-417c3117f95b",
   "metadata": {},
   "source": [
    "<h2> Part 1: Getting a sense of the binomial distribution </h2>\n",
    "\n",
    "The binomial distribution is going to be one of the most frequently encountered probability distributions in the course (and later on whenever you are doing probability again!) because of its correspondence to easily-definable binary results. Here, we're going to experiment with it a little bit, to get a sense of what the most common outputs of a binomial distribution are, and how much variation we expect to see. \n",
    "\n",
    "Here's some code to get us started -- it's a good idea to go over it and see what it's doing! This is getting ready to implement the probability mass function\n",
    "$$f(k) = \\binom{n}{k} p^k (1 - p)^{n - k}.$$"
   ]
  },
  {
   "cell_type": "code",
   "execution_count": null,
   "id": "fe220647-8e8f-4332-a1ad-72fcd76a546c",
   "metadata": {},
   "outputs": [],
   "source": [
    "# Implement the factorial but do it recursively. Since it's recursive, it's not going to be possible\n",
    "# to compute particularly large factorials -- but it'll work for us! It will not terminate if you \n",
    "# try it for anything other than a nonnegative integer though -- try this, just for fun.\n",
    "\n",
    "def fact(n):\n",
    "    if n == 0:\n",
    "        return 1\n",
    "    else:\n",
    "        return n*fact(n - 1)\n",
    "\n",
    "# This is the binomial coefficient n_Choose_k, or n! / (k! (n - k)!). We can take advantage of how\n",
    "# flexible Python is with large integer arithmetic. There are more stable ways to implement this, but it works.\n",
    "\n",
    "def choose(n, k):\n",
    "    return fact(n) // (fact(k) * fact(n - k))"
   ]
  },
  {
   "cell_type": "markdown",
   "id": "b1110081-039e-43c3-a1a7-f03fcd64f41b",
   "metadata": {},
   "source": [
    "Suppose that we flip a coin with probability $p$ of heads many times; the number of heads is going to follow a binomial distribution; taking $N$ flips and a probability of $p$, it's going to have the probability mass function $\\operatorname{Bin}(1000, p)$, which is then \n",
    "$$f(k) = \\frac{N!}{k! (N - k)!} p^k (1-p)^{1000 - k}.$$\n",
    "\n",
    "Let's take one more step and actually implement the probability mass function here:"
   ]
  },
  {
   "cell_type": "code",
   "execution_count": null,
   "id": "82b807b3-43e2-4d2f-9730-68d550748ceb",
   "metadata": {},
   "outputs": [],
   "source": [
    "# Implement the probability mass function that we just defined; it'll \n",
    "# return a decimal result for the probability of X = k. The second and\n",
    "# third arguments are the parameters of the distribution, which depend\n",
    "# on the coin and how many times you flip it.\n",
    "\n",
    "# Note: the ** operator is exponentiation, so 4**3 = 64, for example.\n",
    "# This is because ^ can have special meanings in many languages.\n",
    "\n",
    "def pmf(k, N, p):\n",
    "    return choose(N, k) * (p**k) * (1 - p)**(N - k)\n",
    "\n",
    "# Check that it's working:\n",
    "print(pmf(1, 10, 0.5))\n",
    "\n",
    "# This should print 0.009765625. Run this cel to verify it!"
   ]
  },
  {
   "cell_type": "markdown",
   "id": "d112cdc2-c0f5-4a51-847a-edcc0f175980",
   "metadata": {},
   "source": [
    "If you run that last line of code, it turns out that you get exactly $10/1024$ -- as expected from our in-class discussions. Now let's use this to gather and test some data.\n",
    "\n",
    "> **Question**: \n",
    "Suppose you flip a fair ($p = 0.5$) coin $100$ times. How likely is it that you'll see exactly $50$ heads? What is the probability that you'll see between $45$ and $55$ heads (including $45$ and $55$)?"
   ]
  },
  {
   "cell_type": "markdown",
   "id": "186c6814-2001-406f-8f42-3ebaf829082c",
   "metadata": {},
   "source": [
    "<h3><i> Put your answer to Part 1 here! </i></h3>"
   ]
  },
  {
   "cell_type": "markdown",
   "id": "5f9cfc33-d0a5-4e53-b521-14744a83ffaf",
   "metadata": {},
   "source": [
    "<h2>Part 2: Solving a problem with simulation </h2>\n",
    "\n",
    "Last week, we saw how simulation can be used to understand probability problems. We can just run an experiment on a computer many times with a random number generator, and observe what the long-term behavior might be. In this part of the weekly notebook, you'll use simulation to answer a problem from the textbook (Exercise 4.12). Here it is:\n",
    "\n",
    "> You and a friend want to go to a concert, but unfortunately only one ticket is still available. The man who sells the tickets decides to toss a coin until heads appears. In each toss heads appears with probability $p$, where $0 < p < 1$, independent of each of the previous tosses. If the number of tosses needed is odd, your friend is allowed to buy the ticket; otherwise you can buy it. Would you agree to this arrangement?\n",
    "\n",
    "We could solve this completely analytically (and you should definitely do this!), but here we'll do it numerically. \n",
    "\n",
    "> **Question**: Write and run code to simulate this, using a few different values of $p$. Then decide whether you would agree to the arrangement, and how your experimentation led you to this conclusion. Does your answer depend on the value of $p$?\n",
    "\n",
    "I've written some code that you might find helpful to toss the coin, count the number of tosses before the first head, and see if that number is even. You'll need to assemble these pieces and run the experiment multiple times -- you're encouraged to recycle code from last week. As always, if you run into issues, come to student hours!"
   ]
  },
  {
   "cell_type": "code",
   "execution_count": null,
   "id": "ff6ee86e-0279-4208-a01b-80cb273db638",
   "metadata": {},
   "outputs": [],
   "source": [
    "from random import random\n",
    "\n",
    "# Toss a coin that's been weighted with probability p for heads\n",
    "def tossCoin(p):\n",
    "    # Generate a random number; if it's less than p, return heads\n",
    "    r = random()\n",
    "    if r < p:\n",
    "        return 'H'\n",
    "    else:\n",
    "        return 'T'\n",
    "\n",
    "# Toss coins until we get heads, and report the number of tries\n",
    "# This is one trial of the experiment that you'll want to carry out\n",
    "def tossCount(p):\n",
    "    count = 0\n",
    "    \n",
    "    # Toss a coin until we get heads\n",
    "    while True: \n",
    "        count += 1\n",
    "        toss = tossCoin(p)\n",
    "\n",
    "        # If heads, stop and return the count. Otherwise, loop.\n",
    "        # The == operator is a comparison: it just checks if the \n",
    "        # toss was actually 'H' or not.\n",
    "        if toss == 'H':\n",
    "            return count\n",
    "\n",
    "# This method tells you if a number is even or odd\n",
    "def isEven(n):\n",
    "    # The % operator divides by 2 and takes the remainder. Even numbers\n",
    "    # have a remainder of 0, odd number don't. This could also be coded\n",
    "    # in one line as `return not (n % 2)`.\n",
    "    \n",
    "    if n % 2 == 0:\n",
    "        return True\n",
    "    else:\n",
    "        return False"
   ]
  },
  {
   "cell_type": "markdown",
   "id": "55e346c2-a751-4aa4-96a5-f7029a70c747",
   "metadata": {},
   "source": [
    "<h3><i> Put your answer to Part 2 here!</i><h3>"
   ]
  },
  {
   "cell_type": "markdown",
   "id": "5e9e69e4-8e56-4cf4-9ff8-87e437a8bc1c",
   "metadata": {},
   "source": [
    "<h3> Submitting this to Gradescope </h3>\n",
    "\n",
    "Once you've finished modifying your notebook and answering the questions, you'll need to submit it to Gradescope along with your other homework. To do this, generate a pdf file by clicking `File -> Save and Export Notebook as... -> PDF`. Then upload that PDF to Gradescope and submit it to the assignment `Jupyter 3 - Binomial`. As always -- if you have any questions or run into any issues you can\n",
    "* ask during discussion,\n",
    "* email your TA or instructor,\n",
    "* or bring them to student hours!"
   ]
  }
 ],
 "metadata": {
  "kernelspec": {
   "display_name": "Python 3 (ipykernel)",
   "language": "python",
   "name": "python3"
  },
  "language_info": {
   "codemirror_mode": {
    "name": "ipython",
    "version": 3
   },
   "file_extension": ".py",
   "mimetype": "text/x-python",
   "name": "python",
   "nbconvert_exporter": "python",
   "pygments_lexer": "ipython3",
   "version": "3.11.9"
  }
 },
 "nbformat": 4,
 "nbformat_minor": 5
}
