{
 "cells": [
  {
   "cell_type": "markdown",
   "id": "df3f021f-d678-40ae-b791-5aa2aff1a4e7",
   "metadata": {},
   "source": [
    "<h2> Exploring estimators </h2>\n",
    "\n",
    "In this week's notebook, we're going to explore various estimators, their biases, and their efficiencies. \n",
    "\n",
    "<h4> An estimator for an exponential parameter </h4>\n",
    "\n",
    "Let's draw a dataset from an exponential distribution $\\operatorname{Exp}(\\lambda)$, which has mean $1/\\lambda$. We know that if we build a dataset $\\{x_1, x_2, ..., x_n\\}$ by sampling from this distribution, then the sample mean is an unbiased estimator for $1/\\lambda$. On your homework, you found that\n",
    "$$T_n = \\frac{n}{x_1 + x_2 + \\cdots + x_n}$$\n",
    "is *not* an unbiased estimator for $\\lambda$; for example, $E[T_1] = \\infty$. On the other hand, an easy-to-compute biased estimator with low variance is sometimes preferable to a hard-to-compute unbiased estimator with high variance. We'll explore what happens as $n \\to \\infty$ in the **following questions**:\n",
    "\n",
    "* **Question 1**: Suppose that $\\lambda = 0.5$ and that $n = 2$. Make an estimate for $E[T_2]$ using an appropriate number of simulations. As an estimator for $\\lambda$, is it biased positively or negatively?\n",
    "* **Question 2**: Repeat the previous part with $n = 10$ and $n = 100$. Can you make a conjecture for the behavior of $E[T_n]$ as $n \\to \\infty$?\n",
    "\n",
    "To get you started, the code to generate an exponential random variable is below:"
   ]
  },
  {
   "cell_type": "code",
   "execution_count": 1,
   "id": "e077e9dc-0318-4452-9672-9dd8a49168a7",
   "metadata": {},
   "outputs": [],
   "source": [
    "# To get you started: here's the exponential distribution again:\n",
    "from random import random\n",
    "from math import log\n",
    "\n",
    "def Exp(lamb):\n",
    "    return -log(random()) / lamb\n",
    "\n",
    "# Add more code here"
   ]
  },
  {
   "cell_type": "markdown",
   "id": "9d2a7a87-e1bc-491b-abc4-b94a3a193433",
   "metadata": {},
   "source": [
    "*Put your answer for Question 1 here!*"
   ]
  },
  {
   "cell_type": "markdown",
   "id": "4ee887b7-d6ec-4317-aa98-0018844a3b51",
   "metadata": {},
   "source": [
    "*Put your answer for Question 2 here!*"
   ]
  },
  {
   "cell_type": "markdown",
   "id": "a95fe770-d0ae-46a1-b2d5-5f09307f6699",
   "metadata": {},
   "source": [
    "<h2> Submitting this to Gradescope </h2>\n",
    "\n",
    "Once you've finished modifying your notebook and answering the questions, you'll need to submit it to Gradescope along with your other homework. To do this, generate a pdf file by clicking `File -> Save and Export Notebook as... -> PDF`. Then upload that PDF to Gradescope and submit it to the assignment `Jupyter 9 - Estimators`. As always -- if you have any questions or run into any issues you can\n",
    "* ask during discussion,\n",
    "* email your TA or instructor,\n",
    "* or bring them to student hours!"
   ]
  }
 ],
 "metadata": {
  "kernelspec": {
   "display_name": "Python 3 (ipykernel)",
   "language": "python",
   "name": "python3"
  },
  "language_info": {
   "codemirror_mode": {
    "name": "ipython",
    "version": 3
   },
   "file_extension": ".py",
   "mimetype": "text/x-python",
   "name": "python",
   "nbconvert_exporter": "python",
   "pygments_lexer": "ipython3",
   "version": "3.11.9"
  }
 },
 "nbformat": 4,
 "nbformat_minor": 5
}
