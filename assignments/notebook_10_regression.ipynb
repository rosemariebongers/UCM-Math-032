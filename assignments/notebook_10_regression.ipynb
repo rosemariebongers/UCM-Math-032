{
 "cells": [
  {
   "cell_type": "markdown",
   "id": "9405eb16-1eba-4015-af57-bf7c601db76c",
   "metadata": {},
   "source": [
    "<h2> Linear regression </h2>\n",
    "\n",
    "In this notebook, we're going to explore some linear regression fits and see whether they can be used to build a solid predictive model or not. We'll analyze weather data for Merced sourced from the [National Weather Service](https://www.weather.gov/wrh/climate?wfo=hnx); the file `march_weather.csv` contains the high and low temperatures for each day of March, 2024. \n",
    "\n",
    "March is a season when the weather is changing pretty rapidly between winter and summer, so we might guess that a linear model could predict the temperature. In this case our independent variable *x* will be the number of days into March and our dependent variable *y* will be the temperature on that day. Let's get everything initialized:"
   ]
  },
  {
   "cell_type": "code",
   "execution_count": null,
   "id": "f58d5cc9-347b-4f8c-9e0d-f781a0496ffc",
   "metadata": {},
   "outputs": [],
   "source": [
    "# We have to import a bunch of things to get the data read.\n",
    "# Just run this cell as it is.\n",
    "\n",
    "import csv, datascience\n",
    "import numpy as np\n",
    "%matplotlib inline\n",
    "import matplotlib.pyplot as plots\n",
    "\n",
    "plots.style.use('fivethirtyeight')\n",
    "weather_table = datascience.Table().read_table('march_weather.csv')\n",
    "weather_table"
   ]
  },
  {
   "cell_type": "code",
   "execution_count": null,
   "id": "acf78432-5ee5-4019-ab18-64d29722e19b",
   "metadata": {},
   "outputs": [],
   "source": [
    "# Now let's set up the dates and the high and low temperatures.\n",
    "# Again, just run this cell:\n",
    "dates = [d for d in range(1, 32)]\n",
    "highs = weather_table.column('High temperature')\n",
    "lows = weather_table.column('Low temperature')"
   ]
  },
  {
   "cell_type": "markdown",
   "id": "e50a750e-de63-43a2-80db-dc4530c8646c",
   "metadata": {},
   "source": [
    "After running this cell, you should have three arrays: one that's just a list of days from 1 to 31 inclusive and two with temperature data. Our goall is to find the least squares regression fits for the high temperatures and the low temperatures. That is: we're going to find the coefficients $\\alpha$ and $\\beta$ so that the line $y = \\alpha + \\beta x$ is the best fit for whatever data set we're working with. You might find it helpful to refer back to equations 22.1 and 22.2 in the textbook; here is some code that will get you started:"
   ]
  },
  {
   "cell_type": "code",
   "execution_count": null,
   "id": "6d406209-01e5-4696-86e5-84607c0579a1",
   "metadata": {},
   "outputs": [],
   "source": [
    "def sum_of_squares(array):\n",
    "    s = 0\n",
    "    for a in array:\n",
    "        s += a*a\n",
    "    return s\n",
    "\n",
    "def sum_of_products(array_one, array_two):\n",
    "    # This is assuming they're already the same length.\n",
    "    s = 0\n",
    "    for k in range(len(array_one)):\n",
    "        s += array_one[k] * array_two[k]\n",
    "    return s"
   ]
  },
  {
   "cell_type": "markdown",
   "id": "c1a3b643-cfcd-4cba-a3f0-82beb3f83b7c",
   "metadata": {},
   "source": [
    "Finally, here's one last piece of code: it will make a scatter plot with the temperature data and put the regression fit on top of it in a different color. All you need to do to run it is insert appropriate values for a and b; right now, they're just given as `...`. "
   ]
  },
  {
   "cell_type": "code",
   "execution_count": null,
   "id": "6e13e0ef-cfee-447b-8075-2746f27a6ba0",
   "metadata": {},
   "outputs": [],
   "source": [
    "# This code plots a regression fit along with a dataset.\n",
    "\n",
    "data = highs             # Change the data you're plotting against as needed.\n",
    "a = ...                  # Change this to be the value you find.\n",
    "b = ...                  # Change this to be the value you find.\n",
    "\n",
    "# Do not alter the remaining code in this block:\n",
    "plots.scatter(range(1, 32), data)\n",
    "plots.scatter(range(1, 32), [a + b*d for d in range(1, 32)])"
   ]
  },
  {
   "cell_type": "markdown",
   "id": "51adb8cb-7179-4686-86cd-6dd5bb5a2821",
   "metadata": {},
   "source": [
    "## Questions \n",
    "\n",
    "* **Question 1**: Find the best fit for the high temperature data and use the given code to plot it along with the data.\n",
    "* **Question 2**: Find the best fit for the low temperature data and use the given code to plot it along with the data.\n",
    "* **Question 3**: Compute the sum of squares of the residuals for both lines. Which model has a better fit? Does this match the graphs?"
   ]
  },
  {
   "cell_type": "markdown",
   "id": "e39946a1-94f3-47fb-ab21-2a4573d5742b",
   "metadata": {},
   "source": [
    "<h2> Submitting this to Gradescope </h2>\n",
    "\n",
    "Once you've finished modifying your notebook and answering the questions, you'll need to submit it to Gradescope along with your other homework. To do this, generate a pdf file by clicking `File -> Save and Export Notebook as... -> PDF`. Then upload that PDF to Gradescope and submit it to the assignment `Jupyter 10 - Regression`. As always -- if you have any questions or run into any issues you can\n",
    "* ask during discussion,\n",
    "* email your TA or instructor,\n",
    "* or bring them to student hours!\n",
    "\n",
    "Congratulations! This was the final Jupyter notebook of the semester."
   ]
  }
 ],
 "metadata": {
  "kernelspec": {
   "display_name": "Python 3 (ipykernel)",
   "language": "python",
   "name": "python3"
  },
  "language_info": {
   "codemirror_mode": {
    "name": "ipython",
    "version": 3
   },
   "file_extension": ".py",
   "mimetype": "text/x-python",
   "name": "python",
   "nbconvert_exporter": "python",
   "pygments_lexer": "ipython3",
   "version": "3.11.9"
  }
 },
 "nbformat": 4,
 "nbformat_minor": 5
}
