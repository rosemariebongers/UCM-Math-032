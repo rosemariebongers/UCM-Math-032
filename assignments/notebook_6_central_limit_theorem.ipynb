{
 "cells": [
  {
   "cell_type": "markdown",
   "id": "35075e8a-b4f4-4393-b9d1-7b4fd4366fd3",
   "metadata": {},
   "source": [
    "<h1> Exploring the Central Limit Theorem </h1>\n",
    "\n",
    "In this notebook, we're going to explore the central limit theorem numerically. In class, we've seen that the theorem says that as $N \\to \\infty$, an appropriately scaled average of $N$ IID random variables will converge to a normal distribution. A natural question that comes up is how large $N$ should be in order to use the central limit theorem accurately and efficiently: if $N$ is too small, then the limit is a bad approximation and if $N$ is too large, we require too much data to be practical.\n",
    "\n",
    "In this notebook, you'll explore averages of exponential random variables; remember that these frequently occur in waiting-time examples, and there are many, many real-world systems that rely on knowing how quickly randomly arriving events happen. One such case is right here - this is core to how computer networks work!\n",
    "\n",
    "<h2> An approximation </h2>\n",
    "\n",
    "If you average 30 exponential random variables each having distribution $\\operatorname{Exp}(1/10)$, you can approximate the average as $\\operatorname{N(10, 100/30)}.$ This is because the underlying distribution has mean $10$ and variance $100$; remember that the variance of the average is $\\sigma^2 / n$.\n",
    "\n",
    "We can also just directly simulate $P(\\overline{X}_{30} > 14)$ by generating exponential random variables. The code below does this.\n",
    "\n",
    "The central limit theorem estimate for the probability is about $1.4\\%$, while the simulated sum of $30$ exponential variables is around $2.2\\%$ (using $10^6$ trials). \n",
    "\n",
    "Although these numbers are on the same scale (each representing a fairly unlikely outcome that's not too extreme), they are still off by nearly $60\\%$. This is because $30$ is a small number of trials, and the central limit theorem improves as we take a larger number of trials."
   ]
  },
  {
   "cell_type": "code",
   "execution_count": null,
   "id": "177d83c5-74f9-4391-b26e-996598c3232d",
   "metadata": {},
   "outputs": [],
   "source": [
    "# The packages we'll need\n",
    "from math import sqrt, log\n",
    "from random import random\n",
    "\n",
    "def exp_rv(lamb):\n",
    "    # Generate an exponentially distributed random variable \n",
    "    # from the Exp(lamb) distribution\n",
    "    r = random()\n",
    "    return -log(r) / lamb\n",
    "    \n",
    "def zScore(mu, var, observed, N):\n",
    "    # Compute the z-score of an observation given \n",
    "    # the number of trials (N) of IID random variables\n",
    "    # all having mean mu and variance var\n",
    "    return (observed - mu) / sqrt(var / N)\n",
    "\n",
    "# Example usage\n",
    "# print(f'z-score: {zScore(10, 100, 14, 30)}')"
   ]
  },
  {
   "cell_type": "code",
   "execution_count": null,
   "id": "35158957-3327-4df9-b696-efe0cc2cfb6d",
   "metadata": {},
   "outputs": [],
   "source": [
    "# This code generates a SINGLE average of 30 exponentially distributed \n",
    "# data points each coming from an Exp(1/10) distribution:\n",
    "\n",
    "rv_count = 30\n",
    "samples = []\n",
    "\n",
    "for _ in range(rv_count):\n",
    "    samples.append(exp_rv(1/10))\n",
    "    \n",
    "average = sum(samples) / len(samples)\n",
    "\n",
    "# Print out the average:\n",
    "print(f'First random average: {average}')"
   ]
  },
  {
   "cell_type": "markdown",
   "id": "38f686e5-5b94-475d-8695-c33196673cdc",
   "metadata": {},
   "source": [
    "<h3> Questions </h3>\n",
    "\n",
    "You'll explore some of these probabilities and see how the estimates improve as $N$ increases; this will give you a feel for when the CLT is actually applicable in practice. "
   ]
  },
  {
   "cell_type": "markdown",
   "id": "f7f6cb8f-aa87-4d7c-8592-14458d67e4fd",
   "metadata": {},
   "source": [
    "<b>Question 1</b>: Verify the claim above: with a large enough number of samples, the probability a sum of $30$ IID $\\operatorname{Exp}(1/10)$ random variables will have probability around $0.022$ of being $\\ge 14$."
   ]
  },
  {
   "cell_type": "code",
   "execution_count": null,
   "id": "30977c84-cf17-41fd-a62e-5f6edb06ebfb",
   "metadata": {},
   "outputs": [],
   "source": [
    "# Put your code for Question 1 here.\n",
    "\n"
   ]
  },
  {
   "cell_type": "markdown",
   "id": "00cc02c8-d882-44b3-a718-7a34732cc350",
   "metadata": {},
   "source": [
    "Written answer for question 1: "
   ]
  },
  {
   "cell_type": "markdown",
   "id": "599b11ff-8d7e-46c2-8d84-ae7fe0782170",
   "metadata": {},
   "source": [
    "<b>Question 2:</b> Now take a sum of $100$ IID $\\operatorname{Exp}(1/10)$ random variables. Simulate the probability that the average is $\\ge 11$ and $\\le 9$. Compare this to the results of the central limit theorem; how far off are the results?"
   ]
  },
  {
   "cell_type": "code",
   "execution_count": null,
   "id": "825ade9d-da2f-4e4c-8f76-ac4cab5b4271",
   "metadata": {},
   "outputs": [],
   "source": [
    "# Put your code for Question 2 here.\n",
    "\n"
   ]
  },
  {
   "cell_type": "markdown",
   "id": "ce5858e9-6376-4b94-a6df-942f7dfbe93d",
   "metadata": {},
   "source": [
    "Written answer for question 2: "
   ]
  },
  {
   "cell_type": "code",
   "execution_count": null,
   "id": "08a342dd-431d-426f-8111-34e0933f7533",
   "metadata": {},
   "outputs": [],
   "source": []
  }
 ],
 "metadata": {
  "kernelspec": {
   "display_name": "Python 3 (ipykernel)",
   "language": "python",
   "name": "python3"
  },
  "language_info": {
   "codemirror_mode": {
    "name": "ipython",
    "version": 3
   },
   "file_extension": ".py",
   "mimetype": "text/x-python",
   "name": "python",
   "nbconvert_exporter": "python",
   "pygments_lexer": "ipython3",
   "version": "3.11.9"
  }
 },
 "nbformat": 4,
 "nbformat_minor": 5
}
